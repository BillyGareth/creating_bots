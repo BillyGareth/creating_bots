{
 "cells": [
  {
   "cell_type": "markdown",
   "metadata": {},
   "source": [
    "# <font color ='red'> Creation of a virtual Assistant in Python<font type='Calibri Body'>"
   ]
  },
  {
   "cell_type": "markdown",
   "metadata": {},
   "source": [
    "A Virtual Assistant- application that understands voice commands and complete tasks for a person"
   ]
  },
  {
   "cell_type": "markdown",
   "metadata": {},
   "source": [
    "# <font color='yellow'> Skip this if you already have the packages installed<font type='Elephant'>"
   ]
  },
  {
   "cell_type": "markdown",
   "metadata": {},
   "source": [
    "pip install wikipedia\n",
    "pip install pyaudio\n",
    "pip install SpeechRecognition\n",
    "pip install gTTS"
   ]
  },
  {
   "cell_type": "markdown",
   "metadata": {},
   "source": [
    "# <font color='blue'>Import required modules<font>"
   ]
  },
  {
   "cell_type": "code",
   "execution_count": 1,
   "metadata": {},
   "outputs": [],
   "source": [
    "import speech_recognition as sr"
   ]
  },
  {
   "cell_type": "code",
   "execution_count": 2,
   "metadata": {},
   "outputs": [],
   "source": [
    "import os"
   ]
  },
  {
   "cell_type": "code",
   "execution_count": 3,
   "metadata": {},
   "outputs": [],
   "source": [
    "from gtts import gTTS"
   ]
  },
  {
   "cell_type": "code",
   "execution_count": 4,
   "metadata": {},
   "outputs": [],
   "source": [
    "import datetime"
   ]
  },
  {
   "cell_type": "code",
   "execution_count": 5,
   "metadata": {},
   "outputs": [],
   "source": [
    "import warnings"
   ]
  },
  {
   "cell_type": "code",
   "execution_count": 6,
   "metadata": {},
   "outputs": [],
   "source": [
    "import random"
   ]
  },
  {
   "cell_type": "code",
   "execution_count": 7,
   "metadata": {},
   "outputs": [],
   "source": [
    "import wikipedia"
   ]
  },
  {
   "cell_type": "code",
   "execution_count": 8,
   "metadata": {},
   "outputs": [],
   "source": [
    "import calendar"
   ]
  },
  {
   "cell_type": "markdown",
   "metadata": {},
   "source": [
    "# <font color ='orange'> Now we build it's functionality<font>"
   ]
  },
  {
   "cell_type": "code",
   "execution_count": 9,
   "metadata": {},
   "outputs": [],
   "source": [
    "#ignores warning messages\n",
    "warnings.filterwarnings('ignore')"
   ]
  },
  {
   "cell_type": "code",
   "execution_count": 21,
   "metadata": {},
   "outputs": [],
   "source": [
    "#audio recording and returning as string\n",
    "def recordAudio():\n",
    "    \n",
    "    # create recognizer object\n",
    "    r=sr.Recognizer()\n",
    "    \n",
    "    #open microphone and begin recording\n",
    "    with sr.Microphone() as source:\n",
    "        print('Say something')\n",
    "        audio=r.listen(source)\n",
    "        \n",
    "    #using google speech recognition\n",
    "    data=''\n",
    "    try:\n",
    "        data=r.recognize_google(audio)\n",
    "        print('You said:' + data)\n",
    "    except sr.UnknownValueError:\n",
    "        print('Google Speech Recognition couldnot recognize the audio,unkknown error')\n",
    "    except sr.RequestError as e:\n",
    "        print('Request results from Google Speech Recognition service error'+ e)\n",
    "\n",
    "    return data\n",
    "\n"
   ]
  },
  {
   "cell_type": "code",
   "execution_count": 11,
   "metadata": {},
   "outputs": [],
   "source": [
    "#response from my v_ass.\n",
    "def assistantResponse(text):\n",
    "    print(text)\n",
    "    \n",
    "    myobj=gTTS(text='text',lang='en',slow=False)\n",
    "    \n",
    "    myobj.save('ass_res.mp3')\n",
    "    \n",
    "    os.system('start ass_res.mp3')\n",
    "    \n",
    "text='Princess Switch'\n"
   ]
  },
  {
   "cell_type": "code",
   "execution_count": 12,
   "metadata": {},
   "outputs": [
    {
     "data": {
      "text/plain": [
       "False"
      ]
     },
     "execution_count": 12,
     "metadata": {},
     "output_type": "execute_result"
    }
   ],
   "source": [
    "def wakeWord(text):\n",
    "    #list of wake_words\n",
    "    wake_words=['hey Billy','Ok Gareth']\n",
    "    \n",
    "    text=text.lower()\n",
    "    \n",
    "    #check for any of the wake_words\n",
    "    for phrase in wake_words:\n",
    "        if text in wake_words:\n",
    "            return True\n",
    "    \n",
    "    #if none\n",
    "    return False\n",
    "\n",
    "wakeWord(text)"
   ]
  },
  {
   "cell_type": "code",
   "execution_count": 17,
   "metadata": {},
   "outputs": [],
   "source": [
    "# getting current date\n",
    "def getDate():\n",
    "    \n",
    "    now = datetime.datetime.now()\n",
    "    my_date = datetime.datetime.today()\n",
    "    weekday=calendar.day_name[my_date.weekday()] #e.g Monday\n",
    "    monthNum = now.month\n",
    "    dayNum = now.weekday\n",
    "    \n",
    "    month_names = ['January','February','March','April','May','June','July','August','September','October',\n",
    "                 'November','December']\n",
    "    \n",
    "    ordinalNumbers = ['1st','2nd','3rd','4th','5th','6th','7th','8th','9th','10th',\n",
    "                    '11th','12th','13th','14th','15th','16th','17th','18th','19th','20th',\n",
    "                    '21st','22nd','23rd','24th','25th','26th','27th','28th','29th','30th',\n",
    "                    '31st']\n",
    "    \n",
    "    return 'Today is'+ weekday +' '+ month_names[monthNum-1]+ 'the' + ordinalNumbers[dayNum-1] + '.'\n",
    "\n",
    "# print(getDate())"
   ]
  },
  {
   "cell_type": "code",
   "execution_count": 18,
   "metadata": {},
   "outputs": [],
   "source": [
    "# function that returns normal random greeting\n",
    "def greeting(text):\n",
    "    \n",
    "    #list of inputs\n",
    "    greeting_inputs=['hey there','niaje','holla','benosnochez','chalnade','hi','hello']\n",
    "    \n",
    "    #response list\n",
    "    greeting_response=['hi too','howdy','whatsup','hello','holla','ber','hi','how are you']\n",
    "    \n",
    "    for word in text.split():\n",
    "        if word.lower() in greeting_inputs:\n",
    "            return random.choice(greeting_response) + '.'\n",
    "    \n",
    "    # if greeting doesnt match inputs\n",
    "    return ''\n"
   ]
  },
  {
   "cell_type": "code",
   "execution_count": 19,
   "metadata": {},
   "outputs": [],
   "source": [
    "# get's first and last names from person\n",
    "def getPersonName(text):\n",
    "    \n",
    "    wordList = text.split()\n",
    "    \n",
    "    for i in range(0,len(wordList)):\n",
    "        if i + 3 <= len(wordList) -1 and wordList[i].lower() == 'who' and wordList[i+1].lower() == 'is':\n",
    "            return wordList[i+2] +' '+wordList[i+3]\n"
   ]
  },
  {
   "cell_type": "code",
   "execution_count": null,
   "metadata": {},
   "outputs": [],
   "source": [
    "while True:\n",
    "    \n",
    "    text=recordAudio()\n",
    "    response = ''\n",
    "    \n",
    "    if( wakeWord(text) == True):\n",
    "        #print('You said wake word')\n",
    "        \n",
    "        #check for greetings by the user\n",
    "        response = response + greeting(text)\n",
    "        \n",
    "        #checked date\n",
    "        if('date' in text):\n",
    "            getdate=getDate()\n",
    "            response = response + ' ' + getdate\n",
    "            \n",
    "        if('time' in text):\n",
    "            now=datetime.datetime.now()\n",
    "            meridian=''\n",
    "            \n",
    "            if (now.hour>=12):\n",
    "                meridian='p.m'\n",
    "                hour=now.hour-12\n",
    "            \n",
    "            else:\n",
    "                meridian='a.m'\n",
    "                hour=now.hour\n",
    "            \n",
    "            if now.minute<10:\n",
    "                minute='0'+str(now.minute)\n",
    "            else:\n",
    "                minute=str(now.minute)\n",
    "                \n",
    "            response = response + ' '+ str(hour)+':'+minute+' '+ meridian + '.'\n",
    "            \n",
    "            \n",
    "        if('who is' in text):\n",
    "            person=getPersonName(text)\n",
    "            wiki = wikipedia.summary(person,sentences=2)\n",
    "            response = response + ' ' + wiki\n",
    "        \n",
    "        #response in both audio and text    \n",
    "        assistantResponse(response)"
   ]
  }
 ],
 "metadata": {
  "kernelspec": {
   "display_name": "Python 3",
   "language": "python",
   "name": "python3"
  },
  "language_info": {
   "codemirror_mode": {
    "name": "ipython",
    "version": 3
   },
   "file_extension": ".py",
   "mimetype": "text/x-python",
   "name": "python",
   "nbconvert_exporter": "python",
   "pygments_lexer": "ipython3",
   "version": "3.7.4"
  }
 },
 "nbformat": 4,
 "nbformat_minor": 4
}
